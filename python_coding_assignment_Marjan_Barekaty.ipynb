{
 "cells": [
  {
   "cell_type": "markdown",
   "metadata": {},
   "source": [
    "## Python  Coding  Assignment "
   ]
  },
  {
   "cell_type": "code",
   "execution_count": 3,
   "metadata": {},
   "outputs": [],
   "source": [
    "iteration = 10000"
   ]
  },
  {
   "cell_type": "code",
   "execution_count": 4,
   "metadata": {},
   "outputs": [
    {
     "name": "stdout",
     "output_type": "stream",
     "text": [
      "Enter the integer number: \n",
      "No Input Provided:  0\n"
     ]
    }
   ],
   "source": [
    "while iteration > 1:\n",
    "    number = list(map(int, input(\"Enter the integer number: \").split()))\n",
    "    \n",
    "    \n",
    "    if len(number)  == 2:\n",
    "        a = str(number[0]); b = str(number[1])\n",
    "        value_a = []; value_b = []\n",
    "        for i in a:\n",
    "            value_a.append(i)\n",
    "        for j in b:\n",
    "            value_b.append(j)\n",
    "            \n",
    "            ##Reversed separated numbers based on the length of the number\n",
    "            \n",
    "        A= [value_a[len(value_a)-K-1] for K in range(len(value_a))]\n",
    "        B= [value_b[len(value_b)-K-1] for K in range(len(value_b))]\n",
    "       \n",
    "         ## Reversed joined numbers\n",
    "        v_a = int(''.join(A))\n",
    "        v_b = int(''.join(B))\n",
    "        \n",
    "        ### calculating the sum of reversed numbers\n",
    "\n",
    "        print(\"The number: \", v_a + v_b)\n",
    "        value_a = []; value_b = []\n",
    "    elif len(number) == 1:\n",
    "        print('The number: ', number[0])\n",
    "    else:\n",
    "        print('No Input Provided: ', 0)\n",
    "        break\n",
    "    iteration -= 1"
   ]
  },
  {
   "cell_type": "code",
   "execution_count": null,
   "metadata": {},
   "outputs": [],
   "source": []
  }
 ],
 "metadata": {
  "kernelspec": {
   "display_name": "Python 3",
   "language": "python",
   "name": "python3"
  },
  "language_info": {
   "codemirror_mode": {
    "name": "ipython",
    "version": 3
   },
   "file_extension": ".py",
   "mimetype": "text/x-python",
   "name": "python",
   "nbconvert_exporter": "python",
   "pygments_lexer": "ipython3",
   "version": "3.8.3"
  }
 },
 "nbformat": 4,
 "nbformat_minor": 4
}
